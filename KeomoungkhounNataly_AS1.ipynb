{
 "cells": [
  {
   "cell_type": "markdown",
   "metadata": {},
   "source": [
    "TASK 1: Write five variables and name them after five different containers. Make their values different types of fruits or vegetables, stored as strings. Then print out what they’re storing. For example, I named a variable “bucket” and stored “strawberries” in it. "
   ]
  },
  {
   "cell_type": "code",
   "execution_count": 1,
   "metadata": {},
   "outputs": [],
   "source": [
    "bowl = \"bluberries\"\n",
    "basket = \"bananas\"\n",
    "crate = \"apples\"\n",
    "bucket = \"cherries\"\n",
    "bag = \"lemons\""
   ]
  },
  {
   "cell_type": "code",
   "execution_count": 2,
   "metadata": {},
   "outputs": [
    {
     "name": "stdout",
     "output_type": "stream",
     "text": [
      "The bowl contains bluberries\n",
      "The basket contains bananas\n",
      "The crate contains apples\n",
      "The bucket contains cherries\n",
      "The bag contains lemons\n"
     ]
    }
   ],
   "source": [
    "print \"The bowl contains \" + bowl\n",
    "print \"The basket contains \" + basket\n",
    "print \"The crate contains \" + crate\n",
    "print \"The bucket contains \" + bucket\n",
    "print \"The bag contains \" + bag"
   ]
  },
  {
   "cell_type": "markdown",
   "metadata": {},
   "source": [
    "TASK 2: Store the following sentence in a variable called “sentence” and be sure to correctly include all of the quotes. \n"
   ]
  },
  {
   "cell_type": "code",
   "execution_count": 4,
   "metadata": {},
   "outputs": [],
   "source": [
    "sentence = \"Klavan said that producers have \\\"called my agent asking, 'Why would you represent this guy?' Anything that lowers your odds is going to hurt.\\\"\""
   ]
  },
  {
   "cell_type": "code",
   "execution_count": 5,
   "metadata": {},
   "outputs": [
    {
     "name": "stdout",
     "output_type": "stream",
     "text": [
      "Klavan said that producers have \"called my agent asking, 'Why would you represent this guy?' Anything that lowers your odds is going to hurt.\"\n"
     ]
    }
   ],
   "source": [
    "print sentence"
   ]
  },
  {
   "cell_type": "markdown",
   "metadata": {},
   "source": [
    "TASK 3: Create a list called “presidents” and store at least five names in there. The names should be stored as strings in the list. Then print that list. Then print out the third item in that list."
   ]
  },
  {
   "cell_type": "code",
   "execution_count": 6,
   "metadata": {},
   "outputs": [],
   "source": [
    "presidents = [\"Washington\", \"Adams\", \"Jefferson\", \"Lincoln\", \"FDR\"]"
   ]
  },
  {
   "cell_type": "code",
   "execution_count": 7,
   "metadata": {},
   "outputs": [
    {
     "name": "stdout",
     "output_type": "stream",
     "text": [
      "['Washington', 'Adams', 'Jefferson', 'Lincoln', 'FDR']\n"
     ]
    }
   ],
   "source": [
    "print presidents"
   ]
  },
  {
   "cell_type": "code",
   "execution_count": 8,
   "metadata": {},
   "outputs": [
    {
     "name": "stdout",
     "output_type": "stream",
     "text": [
      "Jefferson\n"
     ]
    }
   ],
   "source": [
    "print presidents[2]"
   ]
  },
  {
   "cell_type": "markdown",
   "metadata": {},
   "source": [
    "TASK 4: Create another list called “birthyears” with the matching birth years for those presidents. The years should be integers in the list. Print that list. Then print out the last item in that list."
   ]
  },
  {
   "cell_type": "code",
   "execution_count": 12,
   "metadata": {},
   "outputs": [],
   "source": [
    "birthyears = [1732, 1735, 1743, 1809, 1882]"
   ]
  },
  {
   "cell_type": "code",
   "execution_count": 17,
   "metadata": {},
   "outputs": [
    {
     "name": "stdout",
     "output_type": "stream",
     "text": [
      "[1732, 1735, 1743, 1809, 1882]\n"
     ]
    }
   ],
   "source": [
    "print birthyears"
   ]
  },
  {
   "cell_type": "code",
   "execution_count": 18,
   "metadata": {},
   "outputs": [
    {
     "name": "stdout",
     "output_type": "stream",
     "text": [
      "1882\n"
     ]
    }
   ],
   "source": [
    "print birthyears[-1]"
   ]
  },
  {
   "cell_type": "markdown",
   "metadata": {},
   "source": [
    "TASK 5: Create a dictionary called “pData” that includes the data from both task 3 and four. Each object in your dictionary should have the structure “president name” : ####, where the hash marks represent their birth year stored as an integer. Then print the dictionary."
   ]
  },
  {
   "cell_type": "code",
   "execution_count": 19,
   "metadata": {},
   "outputs": [],
   "source": [
    "pData = {\"Washington\":1732, \"Adams\":1735, \"Jefferson\":1743, \"Lincoln\":1809, \"FDR\":1882}"
   ]
  },
  {
   "cell_type": "code",
   "execution_count": 20,
   "metadata": {},
   "outputs": [
    {
     "name": "stdout",
     "output_type": "stream",
     "text": [
      "{'Lincoln': 1809, 'Jefferson': 1743, 'Washington': 1732, 'Adams': 1735, 'FDR': 1882}\n"
     ]
    }
   ],
   "source": [
    "print pData"
   ]
  }
 ],
 "metadata": {
  "kernelspec": {
   "display_name": "Python 2",
   "language": "python",
   "name": "python2"
  },
  "language_info": {
   "codemirror_mode": {
    "name": "ipython",
    "version": 2
   },
   "file_extension": ".py",
   "mimetype": "text/x-python",
   "name": "python",
   "nbconvert_exporter": "python",
   "pygments_lexer": "ipython2",
   "version": "2.7.10"
  }
 },
 "nbformat": 4,
 "nbformat_minor": 2
}
